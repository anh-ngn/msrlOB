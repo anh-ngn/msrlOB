{
 "cells": [
  {
   "cell_type": "code",
   "execution_count": 1,
   "id": "6d4d85d0",
   "metadata": {
    "_cell_guid": "b1076dfc-b9ad-4769-8c92-a6c4dae69d19",
    "_uuid": "8f2839f25d086af736a60e9eeb907d3b93b6e0e5",
    "execution": {
     "iopub.execute_input": "2024-06-17T16:35:56.226372Z",
     "iopub.status.busy": "2024-06-17T16:35:56.226110Z",
     "iopub.status.idle": "2024-06-17T16:35:57.735900Z",
     "shell.execute_reply": "2024-06-17T16:35:57.734866Z"
    },
    "papermill": {
     "duration": 1.51672,
     "end_time": "2024-06-17T16:35:57.738025",
     "exception": false,
     "start_time": "2024-06-17T16:35:56.221305",
     "status": "completed"
    },
    "tags": []
   },
   "outputs": [
    {
     "name": "stdout",
     "output_type": "stream",
     "text": [
      "Cloning into 'msrlOB'...\r\n",
      "remote: Enumerating objects: 124, done.\u001b[K\r\n",
      "remote: Counting objects: 100% (41/41), done.\u001b[K\r\n",
      "remote: Compressing objects: 100% (9/9), done.\u001b[K\r\n",
      "remote: Total 124 (delta 35), reused 37 (delta 32), pack-reused 83\u001b[K\r\n",
      "Receiving objects: 100% (124/124), 62.51 KiB | 5.21 MiB/s, done.\r\n",
      "Resolving deltas: 100% (67/67), done.\r\n"
     ]
    }
   ],
   "source": [
    "!git clone https://github.com/anh-ngn/msrlOB.git"
   ]
  },
  {
   "cell_type": "code",
   "execution_count": 2,
   "id": "7444636f",
   "metadata": {
    "execution": {
     "iopub.execute_input": "2024-06-17T16:35:57.747036Z",
     "iopub.status.busy": "2024-06-17T16:35:57.746334Z",
     "iopub.status.idle": "2024-06-17T16:35:57.752264Z",
     "shell.execute_reply": "2024-06-17T16:35:57.751427Z"
    },
    "papermill": {
     "duration": 0.012379,
     "end_time": "2024-06-17T16:35:57.754225",
     "exception": false,
     "start_time": "2024-06-17T16:35:57.741846",
     "status": "completed"
    },
    "tags": []
   },
   "outputs": [
    {
     "name": "stdout",
     "output_type": "stream",
     "text": [
      "/kaggle/working/msrlOB\n"
     ]
    }
   ],
   "source": [
    "%cd msrlOB"
   ]
  },
  {
   "cell_type": "code",
   "execution_count": 3,
   "id": "aac20e19",
   "metadata": {
    "execution": {
     "iopub.execute_input": "2024-06-17T16:35:57.762530Z",
     "iopub.status.busy": "2024-06-17T16:35:57.762007Z",
     "iopub.status.idle": "2024-06-17T16:35:58.698227Z",
     "shell.execute_reply": "2024-06-17T16:35:58.697348Z"
    },
    "papermill": {
     "duration": 0.9424,
     "end_time": "2024-06-17T16:35:58.700185",
     "exception": false,
     "start_time": "2024-06-17T16:35:57.757785",
     "status": "completed"
    },
    "tags": []
   },
   "outputs": [
    {
     "name": "stdout",
     "output_type": "stream",
     "text": [
      "/kaggle/working/msrlOB\r\n"
     ]
    }
   ],
   "source": [
    "!pwd"
   ]
  },
  {
   "cell_type": "code",
   "execution_count": 4,
   "id": "e9d61475",
   "metadata": {
    "execution": {
     "iopub.execute_input": "2024-06-17T16:35:58.709365Z",
     "iopub.status.busy": "2024-06-17T16:35:58.708831Z",
     "iopub.status.idle": "2024-06-17T16:36:00.046895Z",
     "shell.execute_reply": "2024-06-17T16:36:00.045973Z"
    },
    "papermill": {
     "duration": 1.344998,
     "end_time": "2024-06-17T16:36:00.048998",
     "exception": false,
     "start_time": "2024-06-17T16:35:58.704000",
     "status": "completed"
    },
    "tags": []
   },
   "outputs": [
    {
     "name": "stdout",
     "output_type": "stream",
     "text": [
      "  % Total    % Received % Xferd  Average Speed   Time    Time     Time  Current\r\n",
      "                                 Dload  Upload   Total   Spent    Left  Speed\r\n",
      "100 89728    0 89728    0     0   225k      0 --:--:-- --:--:-- --:--:--  225k\r\n"
     ]
    }
   ],
   "source": [
    "!curl https://drive.google.com/file/d/1LdVCgf30w5d2Wsle9cbkZb364tywLrLI/view?usp=sharing -o eval_net.pth"
   ]
  },
  {
   "cell_type": "code",
   "execution_count": 5,
   "id": "c373196e",
   "metadata": {
    "execution": {
     "iopub.execute_input": "2024-06-17T16:36:00.058891Z",
     "iopub.status.busy": "2024-06-17T16:36:00.058057Z",
     "iopub.status.idle": "2024-06-17T16:36:01.004805Z",
     "shell.execute_reply": "2024-06-17T16:36:01.000562Z"
    },
    "papermill": {
     "duration": 0.954334,
     "end_time": "2024-06-17T16:36:01.007446",
     "exception": false,
     "start_time": "2024-06-17T16:36:00.053112",
     "status": "completed"
    },
    "tags": []
   },
   "outputs": [
    {
     "name": "stdout",
     "output_type": "stream",
     "text": [
      "data.py       models\t requirements.txt  run1.py\tutils.py\r\n",
      "eval_net.pth  readme.md  run.py\t\t   solve.ipynb\r\n"
     ]
    }
   ],
   "source": [
    "!ls"
   ]
  },
  {
   "cell_type": "code",
   "execution_count": 6,
   "id": "87c72d71",
   "metadata": {
    "execution": {
     "iopub.execute_input": "2024-06-17T16:36:01.020564Z",
     "iopub.status.busy": "2024-06-17T16:36:01.019970Z",
     "iopub.status.idle": "2024-06-17T16:36:01.988907Z",
     "shell.execute_reply": "2024-06-17T16:36:01.988002Z"
    },
    "papermill": {
     "duration": 0.97767,
     "end_time": "2024-06-17T16:36:01.991093",
     "exception": false,
     "start_time": "2024-06-17T16:36:01.013423",
     "status": "completed"
    },
    "tags": []
   },
   "outputs": [
    {
     "name": "stdout",
     "output_type": "stream",
     "text": [
      "Branch 'em' set up to track remote branch 'em' from 'origin'.\r\n",
      "Switched to a new branch 'em'\r\n"
     ]
    }
   ],
   "source": [
    "!git checkout em"
   ]
  },
  {
   "cell_type": "code",
   "execution_count": 7,
   "id": "927053db",
   "metadata": {
    "execution": {
     "iopub.execute_input": "2024-06-17T16:36:02.001205Z",
     "iopub.status.busy": "2024-06-17T16:36:02.000497Z",
     "iopub.status.idle": "2024-06-17T16:36:03.151296Z",
     "shell.execute_reply": "2024-06-17T16:36:03.150390Z"
    },
    "papermill": {
     "duration": 1.158051,
     "end_time": "2024-06-17T16:36:03.153322",
     "exception": false,
     "start_time": "2024-06-17T16:36:01.995271",
     "status": "completed"
    },
    "tags": []
   },
   "outputs": [
    {
     "name": "stdout",
     "output_type": "stream",
     "text": [
      "Already up to date.\r\n"
     ]
    }
   ],
   "source": [
    "!git pull"
   ]
  },
  {
   "cell_type": "code",
   "execution_count": null,
   "id": "f3a5f0e9",
   "metadata": {
    "papermill": {
     "duration": 0.004025,
     "end_time": "2024-06-17T16:36:03.161732",
     "exception": false,
     "start_time": "2024-06-17T16:36:03.157707",
     "status": "completed"
    },
    "tags": []
   },
   "outputs": [],
   "source": []
  },
  {
   "cell_type": "code",
   "execution_count": 8,
   "id": "baebe36e",
   "metadata": {
    "execution": {
     "iopub.execute_input": "2024-06-17T16:36:03.171367Z",
     "iopub.status.busy": "2024-06-17T16:36:03.171061Z",
     "iopub.status.idle": "2024-06-17T16:54:49.185264Z",
     "shell.execute_reply": "2024-06-17T16:54:49.184238Z"
    },
    "papermill": {
     "duration": 1126.021728,
     "end_time": "2024-06-17T16:54:49.187609",
     "exception": false,
     "start_time": "2024-06-17T16:36:03.165881",
     "status": "completed"
    },
    "tags": []
   },
   "outputs": [
    {
     "name": "stdout",
     "output_type": "stream",
     "text": [
      "/opt/conda/lib/python3.10/site-packages/torchvision/models/_utils.py:208: UserWarning: The parameter 'pretrained' is deprecated since 0.13 and may be removed in the future, please use 'weights' instead.\r\n",
      "  warnings.warn(\r\n",
      "/opt/conda/lib/python3.10/site-packages/torchvision/models/_utils.py:223: UserWarning: Arguments other than a weight enum or `None` for 'weights' are deprecated since 0.13 and may be removed in the future. The current behavior is equivalent to passing `weights=VGG16_Weights.IMAGENET1K_V1`. You can also use `weights=VGG16_Weights.DEFAULT` to get the most up-to-date weights.\r\n",
      "  warnings.warn(msg)\r\n",
      "Downloading: \"https://download.pytorch.org/models/vgg16-397923af.pth\" to /root/.cache/torch/hub/checkpoints/vgg16-397923af.pth\r\n",
      "100%|█████████████████████████████████████████| 528M/528M [00:02<00:00, 185MB/s]\r\n",
      "episode: 0 , this epoch reward is -195\r\n",
      "model saved\r\n",
      "episode: 1 , this epoch reward is -212\r\n",
      "episode: 2 , this epoch reward is -176\r\n",
      "model saved\r\n",
      "episode: 3 , this epoch reward is -244\r\n",
      "episode: 4 , this epoch reward is -292\r\n",
      "episode: 5 , this epoch reward is -170\r\n",
      "model saved\r\n",
      "episode: 6 , this epoch reward is -144\r\n",
      "model saved\r\n",
      "episode: 7 , this epoch reward is -237\r\n",
      "episode: 8 , this epoch reward is -135\r\n",
      "model saved\r\n",
      "episode: 9 , this epoch reward is -126\r\n",
      "model saved\r\n",
      "episode: 10 , this epoch reward is -175\r\n",
      "episode: 11 , this epoch reward is -175\r\n",
      "episode: 12 , this epoch reward is -68\r\n",
      "model saved\r\n",
      "episode: 13 , this epoch reward is -11\r\n",
      "model saved\r\n",
      "episode: 14 , this epoch reward is -72\r\n",
      "episode: 15 , this epoch reward is -96\r\n",
      "episode: 16 , this epoch reward is -21\r\n",
      "episode: 17 , this epoch reward is -75\r\n",
      "episode: 18 , this epoch reward is -95\r\n",
      "episode: 19 , this epoch reward is -102\r\n",
      "episode: 20 , this epoch reward is -59\r\n",
      "episode: 21 , this epoch reward is -116\r\n",
      "episode: 22 , this epoch reward is 26\r\n",
      "model saved\r\n",
      "episode: 23 , this epoch reward is -136\r\n",
      "episode: 24 , this epoch reward is -25\r\n",
      "episode: 25 , this epoch reward is -66\r\n",
      "episode: 26 , this epoch reward is -89\r\n",
      "episode: 27 , this epoch reward is -52\r\n",
      "episode: 28 , this epoch reward is -56\r\n",
      "episode: 29 , this epoch reward is 20\r\n",
      "episode: 30 , this epoch reward is -20\r\n",
      "episode: 31 , this epoch reward is 74\r\n",
      "model saved\r\n",
      "episode: 32 , this epoch reward is 6\r\n",
      "episode: 33 , this epoch reward is -54\r\n",
      "episode: 34 , this epoch reward is -79\r\n",
      "episode: 35 , this epoch reward is -81\r\n",
      "episode: 36 , this epoch reward is -10\r\n",
      "episode: 37 , this epoch reward is 31\r\n",
      "episode: 38 , this epoch reward is 50\r\n",
      "episode: 39 , this epoch reward is -11\r\n",
      "episode: 40 , this epoch reward is 6\r\n",
      "episode: 41 , this epoch reward is -12\r\n",
      "episode: 42 , this epoch reward is -11\r\n",
      "episode: 43 , this epoch reward is 16\r\n",
      "episode: 44 , this epoch reward is 37\r\n",
      "episode: 45 , this epoch reward is 13\r\n",
      "episode: 46 , this epoch reward is -3\r\n",
      "episode: 47 , this epoch reward is -24\r\n",
      "episode: 48 , this epoch reward is 9\r\n",
      "episode: 49 , this epoch reward is 58\r\n",
      "model loaded\r\n",
      "single_plane_image_names and single_plane_image_gts saved\r\n",
      "average IOU is 0.398\r\n"
     ]
    }
   ],
   "source": [
    "!python run.py "
   ]
  }
 ],
 "metadata": {
  "kaggle": {
   "accelerator": "gpu",
   "dataSources": [
    {
     "datasetId": 18276,
     "sourceId": 23902,
     "sourceType": "datasetVersion"
    },
    {
     "datasetId": 35388,
     "sourceId": 47853,
     "sourceType": "datasetVersion"
    }
   ],
   "dockerImageVersionId": 30699,
   "isGpuEnabled": true,
   "isInternetEnabled": true,
   "language": "python",
   "sourceType": "notebook"
  },
  "kernelspec": {
   "display_name": "Python 3",
   "language": "python",
   "name": "python3"
  },
  "language_info": {
   "codemirror_mode": {
    "name": "ipython",
    "version": 3
   },
   "file_extension": ".py",
   "mimetype": "text/x-python",
   "name": "python",
   "nbconvert_exporter": "python",
   "pygments_lexer": "ipython3",
   "version": "3.10.13"
  },
  "papermill": {
   "default_parameters": {},
   "duration": 1136.902084,
   "end_time": "2024-06-17T16:54:50.396371",
   "environment_variables": {},
   "exception": null,
   "input_path": "__notebook__.ipynb",
   "output_path": "__notebook__.ipynb",
   "parameters": {},
   "start_time": "2024-06-17T16:35:53.494287",
   "version": "2.5.0"
  }
 },
 "nbformat": 4,
 "nbformat_minor": 5
}
